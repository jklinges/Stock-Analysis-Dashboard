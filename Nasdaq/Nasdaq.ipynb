{
 "cells": [
  {
   "cell_type": "code",
   "execution_count": null,
   "metadata": {},
   "outputs": [],
   "source": [
    "import sys     # !{sys.executable} -m pip install ta\n",
    "import numpy as np\n",
    "import pandas as pd\n",
    "from datetime import datetime\n",
    "from matplotlib import pyplot as plt\n",
    "from scipy.optimize import curve_fit\n",
    "import datetime as dt"
   ]
  },
  {
   "cell_type": "code",
   "execution_count": null,
   "metadata": {},
   "outputs": [],
   "source": [
    "# https://rapidapi.com/apidojo/api/yahoo-finance1\n",
    "# https://rapidapi.com/blog/yahoo-finance-api-python/\n",
    "\n",
    "# read in Nasdaq data, large amount of data that is hard to API for\n",
    "data_file = 'Nasdaq_History_All_thru2020.csv'  # downloaded from yahoo finance\n",
    "df = pd.read_csv(data_file)\n",
    "last_update = str(dt.date.today())\n",
    "x = df['Date']\n",
    "y = df['Close']\n",
    "\n",
    "# datetime.timestamp()\n",
    "df['date_time'] = [datetime.strptime(d, '%m/%d/%Y') for d in df['Date']]\n",
    "df['date_time'] = [datetime.timestamp(d) for d in df['date_time']] # utcfromtimestamp for accurate date\n",
    "df.to_csv(f\"fileOne.csv\", index = False, header=True)\n",
    "df"
   ]
  },
  {
   "cell_type": "code",
   "execution_count": null,
   "metadata": {},
   "outputs": [],
   "source": [
    "# allows plotting of graph by date and axis shows in years\n",
    "df.set_index('Date',inplace = True)"
   ]
  },
  {
   "cell_type": "code",
   "execution_count": null,
   "metadata": {},
   "outputs": [],
   "source": [
    "max_date = df['date_time'].max()   # Use this in future to update date on graph, convert from timestamp"
   ]
  },
  {
   "cell_type": "code",
   "execution_count": null,
   "metadata": {},
   "outputs": [],
   "source": [
    "# Create graph of nasdaq data\n",
    "df[['Close']].plot(figsize=(12,6))\n",
    "x_sec = df['date_time']\n",
    "plt.title(f\"Nasdaq Close since 1971\")\n",
    "plt.ylabel(\"Close\")\n",
    "plt.xlabel(f\"Time Period ending Dec 31, 2020\", fontsize=15)\n",
    "plt.xticks(rotation=0, fontsize=15)\n",
    "plt.plot(x,y, color='royalblue')\n",
    "\n",
    "# fit exponential curve to graph\n",
    "def func(x, a, b, c):\n",
    "    return a * np.exp(b * x) + c\n",
    "# predicted value from python, fits slightly different than Excel fit\n",
    "popt, pcov = curve_fit(func, x_sec, y, bounds=(0, [380, .000000002362, 1]))\n",
    "popt\n",
    "plt.plot(x, func(x_sec, *popt), 'g--',\n",
    "         label='fit: a=%5.3f, b=%5.12f, c=%5.3f' % tuple(popt), color='red')\n",
    "\n",
    "plt.legend()\n",
    "plt.show()\n"
   ]
  },
  {
   "cell_type": "code",
   "execution_count": null,
   "metadata": {},
   "outputs": [],
   "source": [
    "# exponetial values copied from Excel fitted curve\n",
    "a,b,c = tuple(popt)\n",
    "a = 67.928\n",
    "b = 0.000000003048\n",
    "c = 25"
   ]
  },
  {
   "cell_type": "code",
   "execution_count": null,
   "metadata": {},
   "outputs": [],
   "source": [
    "df['predicted'] = [func(d,a,b,c) for d in df['date_time']] # utcfromtimestamp for accurate date\n",
    "df"
   ]
  },
  {
   "cell_type": "code",
   "execution_count": null,
   "metadata": {},
   "outputs": [],
   "source": [
    "# date makes no big changes from date_time\n",
    "# df.set_index('Date',inplace = True)\n",
    "df[['Close']].plot(figsize=(20,6))\n",
    "y_pred = df['predicted']\n",
    "plt.xticks(rotation=0, fontsize=15)\n",
    "plt.yticks(fontsize=15)\n",
    "plt.title(f\"Close Price History for the NASDAQ\", size = 20)\n",
    "plt.ylabel(\"Price(US$)\", fontsize=15)\n",
    "plt.xlabel(f\"Time Period ending {last_update}\", fontsize=15)\n",
    "# file_name = f\"Images/{stock}vs{time}.png\"\n",
    "plt.plot(x,y, color='royalblue')\n",
    "plt.plot(x, y_pred, color='red')\n",
    "plt.annotate('y = 67.928 EXP^(0.000000003048 * DateTime)',(500,10000), color = 'red', size=15)\n",
    "plt.annotate('R^2 = 95.21',(500,9000), color = 'red', size=15)\n",
    "plt.savefig('nasdaq.png')"
   ]
  },
  {
   "cell_type": "code",
   "execution_count": null,
   "metadata": {},
   "outputs": [],
   "source": [
    "https://github.com/pauleppers/StockAnalysis/blob/main/Nasdaq/Nasdaq.ipynb"
   ]
  },
  {
   "cell_type": "code",
   "execution_count": null,
   "metadata": {},
   "outputs": [],
   "source": []
  },
  {
   "cell_type": "code",
   "execution_count": null,
   "metadata": {},
   "outputs": [],
   "source": []
  }
 ],
 "metadata": {
  "kernelspec": {
   "display_name": "Python 3",
   "language": "python",
   "name": "python3"
  },
  "language_info": {
   "codemirror_mode": {
    "name": "ipython",
    "version": 3
   },
   "file_extension": ".py",
   "mimetype": "text/x-python",
   "name": "python",
   "nbconvert_exporter": "python",
   "pygments_lexer": "ipython3",
   "version": "3.8.3"
  }
 },
 "nbformat": 4,
 "nbformat_minor": 4
}
